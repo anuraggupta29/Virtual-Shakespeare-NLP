{
  "nbformat": 4,
  "nbformat_minor": 0,
  "metadata": {
    "kernelspec": {
      "language": "python",
      "display_name": "Python 3",
      "name": "python3"
    },
    "language_info": {
      "pygments_lexer": "ipython3",
      "nbconvert_exporter": "python",
      "version": "3.6.4",
      "file_extension": ".py",
      "codemirror_mode": {
        "name": "ipython",
        "version": 3
      },
      "name": "python",
      "mimetype": "text/x-python"
    },
    "colab": {
      "name": "virtual-shakespeare-natural-language-processing.ipynb",
      "provenance": []
    }
  },
  "cells": [
    {
      "cell_type": "markdown",
      "metadata": {
        "id": "jFhNS2Wr0Fow",
        "colab_type": "text"
      },
      "source": [
        "<h2>Virtual Shakespeare - Natural Language Processing</h2>\n",
        "<img src=\"https://upload.wikimedia.org/wikipedia/commons/a/a2/Shakespeare.jpg\" width=\"200\" height=\"200\"/>\n",
        "\n",
        "<h5> Hola folks! Don't be fooled by the clickbait title.<br> In this quest to recreate Shakespeare, I was partly successful. Actually, no I wasn't.<br> Still, I was able to create a 3 year old Shakespeare, with some broken words and a bit of a hate for grammar.</h5>\n",
        "\n",
        "<h5>Okay, coming to this notebook. I have used a dataset of Shakespeare's works to train a model, which on giving an input text, will produce an output text of desired length.</h5>\n",
        "\n",
        "<h5>In the output text, you can observe that they follow the same structure as shakespeare's works, uses similar words and similar dialogues.<br> This output text is completely computer generated and not a subset of the dataset. </h5>\n",
        "\n",
        "<h5>The dataset has over 5 million characters, and 84 distinct characters.</h5>"
      ]
    },
    {
      "cell_type": "markdown",
      "metadata": {
        "id": "99wvZ5w-0Foy",
        "colab_type": "text"
      },
      "source": [
        "####  I have provided a sample output at the top, please go through the entire notebook, to understand how it all works. "
      ]
    },
    {
      "cell_type": "code",
      "metadata": {
        "trusted": true,
        "id": "qFhvkiJf0Foz",
        "colab_type": "code",
        "colab": {},
        "outputId": "554d0c1a-e800-49f2-9430-d65117da3eec"
      },
      "source": [
        "#Sample output\n",
        "print(generate_text(model, 'Et tu, Brute?', gen_size = 1000))"
      ],
      "execution_count": 0,
      "outputs": [
        {
          "output_type": "stream",
          "text": [
            "Et tu, Brute?\n",
            "  CASSIUS. Hear you the change: why, what marning is her silvia?\n",
            "  MARIA. Very liken'd brave said; 'twill besire this night, I may perbs crap-in-these\n",
            "    discourse hast bred in the experience of their King?\n",
            "  BOLINGBROKE. Who straight there; but that you are so scruple  \n",
            "    Before, being gentle-sweeber than our star,\n",
            "    And bade your best odd Cudruction of it.\n",
            "    O fixt, thy guilt spoke back! It did all rest unmauntily\n",
            "    sculves! Dat is it not, awake! Very Emmawe, Alifardup Mother, afterward, and Sisturs.\n",
            "  AJAX. You say the truth, give me the court; whose loves are in notice,\n",
            "    'Tis dearer frank.\n",
            "  SERVANT. I thank you.\n",
            "  ORLANDO. Well, horrible! Come, no.' 'Tis well belov'd, so I confess the sun to\n",
            "    knowe hearts, and say the terthy, not the longes,\n",
            "    And pity to the other temple may amiss\n",
            "    Fall'n forth tonight.\n",
            "  SEBASTIAN. Wilt thourself come from the hardicu?  \n",
            "  LUCETTA. For who should wear'd it here? Shall I hear such business?\n",
            "    Grant I maintain'd a beauteous \n"
          ],
          "name": "stdout"
        }
      ]
    },
    {
      "cell_type": "code",
      "metadata": {
        "_uuid": "d629ff2d2480ee46fbb7e2d37f6b5fab8052498a",
        "_cell_guid": "79c7e3d0-c299-4dcb-8224-4455121ee9b0",
        "trusted": true,
        "id": "XtgfDeE60Fo3",
        "colab_type": "code",
        "colab": {}
      },
      "source": [
        "#importing libraries and packages\n",
        "import numpy as np\n",
        "import pandas as pd\n",
        "import matplotlib.pyplot as plt\n",
        "import tensorflow as tf"
      ],
      "execution_count": 0,
      "outputs": []
    },
    {
      "cell_type": "code",
      "metadata": {
        "trusted": true,
        "id": "ApOEqb--0Fo6",
        "colab_type": "code",
        "colab": {},
        "outputId": "41713112-ff1f-48b9-e250-725578960d5b"
      },
      "source": [
        "#load the dataset containing shakespeare's works\n",
        "text = open('../input/shakespeare.txt', 'r').read()\n",
        "print(text[:1000])"
      ],
      "execution_count": 0,
      "outputs": [
        {
          "output_type": "stream",
          "text": [
            "\n",
            "                     1\n",
            "  From fairest creatures we desire increase,\n",
            "  That thereby beauty's rose might never die,\n",
            "  But as the riper should by time decease,\n",
            "  His tender heir might bear his memory:\n",
            "  But thou contracted to thine own bright eyes,\n",
            "  Feed'st thy light's flame with self-substantial fuel,\n",
            "  Making a famine where abundance lies,\n",
            "  Thy self thy foe, to thy sweet self too cruel:\n",
            "  Thou that art now the world's fresh ornament,\n",
            "  And only herald to the gaudy spring,\n",
            "  Within thine own bud buriest thy content,\n",
            "  And tender churl mak'st waste in niggarding:\n",
            "    Pity the world, or else this glutton be,\n",
            "    To eat the world's due, by the grave and thee.\n",
            "\n",
            "\n",
            "                     2\n",
            "  When forty winters shall besiege thy brow,\n",
            "  And dig deep trenches in thy beauty's field,\n",
            "  Thy youth's proud livery so gazed on now,\n",
            "  Will be a tattered weed of small worth held:  \n",
            "  Then being asked, where all thy beauty lies,\n",
            "  Where all the treasure of thy lusty days;\n",
            "  To say within thine own deep su\n"
          ],
          "name": "stdout"
        }
      ]
    },
    {
      "cell_type": "markdown",
      "metadata": {
        "id": "j8_5KL740Fo-",
        "colab_type": "text"
      },
      "source": [
        "# Dataset Statistics"
      ]
    },
    {
      "cell_type": "code",
      "metadata": {
        "trusted": true,
        "id": "Tv5R8DCe0Fo-",
        "colab_type": "code",
        "colab": {}
      },
      "source": [
        "total_char = len(list(text))\n",
        "unique_char = len(set(text))\n",
        "\n",
        "text_cleaned = ''\n",
        "alphalist = [chr(i) for i in range(ord('A'), ord('z')+1)]\n",
        "\n",
        "for i in text:\n",
        "    if i.isalpha():\n",
        "        text_cleaned += i\n",
        "    else:\n",
        "        text_cleaned += ' '\n",
        "\n",
        "char_count = {}\n",
        "for i in text_cleaned.split():\n",
        "    if i in char_count:\n",
        "        char_count[i] += 1\n",
        "    else:\n",
        "        char_count[i] = 1\n",
        "        \n",
        "df = pd.DataFrame(char_count.items(), columns=['Words','Count'])\n",
        "df.sort_values('Count', axis=0, ascending=False, inplace=True)\n",
        "df.reset_index(drop=True, inplace=True)"
      ],
      "execution_count": 0,
      "outputs": []
    },
    {
      "cell_type": "code",
      "metadata": {
        "trusted": true,
        "id": "YMhsdFeI0FpA",
        "colab_type": "code",
        "colab": {},
        "outputId": "f30b42ab-1dff-4ba2-fb1a-f8a2fc87a826"
      },
      "source": [
        "print('Total Characters: ', total_char)\n",
        "print('Unique Characters: ', unique_char)\n",
        "print('Most used words:')\n",
        "display(df.head(10))"
      ],
      "execution_count": 0,
      "outputs": [
        {
          "output_type": "stream",
          "text": [
            "Total Characters:  5445609\n",
            "Unique Characters:  84\n",
            "Most used words:\n"
          ],
          "name": "stdout"
        },
        {
          "output_type": "display_data",
          "data": {
            "text/plain": [
              "  Words  Count\n",
              "0   the  23243\n",
              "1     I  22225\n",
              "2   and  18618\n",
              "3    to  16339\n",
              "4    of  15687\n",
              "5     a  12780\n",
              "6   you  12163\n",
              "7    my  10839\n",
              "8    in  10005\n",
              "9     d   8954"
            ],
            "text/html": [
              "<div>\n",
              "<style scoped>\n",
              "    .dataframe tbody tr th:only-of-type {\n",
              "        vertical-align: middle;\n",
              "    }\n",
              "\n",
              "    .dataframe tbody tr th {\n",
              "        vertical-align: top;\n",
              "    }\n",
              "\n",
              "    .dataframe thead th {\n",
              "        text-align: right;\n",
              "    }\n",
              "</style>\n",
              "<table border=\"1\" class=\"dataframe\">\n",
              "  <thead>\n",
              "    <tr style=\"text-align: right;\">\n",
              "      <th></th>\n",
              "      <th>Words</th>\n",
              "      <th>Count</th>\n",
              "    </tr>\n",
              "  </thead>\n",
              "  <tbody>\n",
              "    <tr>\n",
              "      <th>0</th>\n",
              "      <td>the</td>\n",
              "      <td>23243</td>\n",
              "    </tr>\n",
              "    <tr>\n",
              "      <th>1</th>\n",
              "      <td>I</td>\n",
              "      <td>22225</td>\n",
              "    </tr>\n",
              "    <tr>\n",
              "      <th>2</th>\n",
              "      <td>and</td>\n",
              "      <td>18618</td>\n",
              "    </tr>\n",
              "    <tr>\n",
              "      <th>3</th>\n",
              "      <td>to</td>\n",
              "      <td>16339</td>\n",
              "    </tr>\n",
              "    <tr>\n",
              "      <th>4</th>\n",
              "      <td>of</td>\n",
              "      <td>15687</td>\n",
              "    </tr>\n",
              "    <tr>\n",
              "      <th>5</th>\n",
              "      <td>a</td>\n",
              "      <td>12780</td>\n",
              "    </tr>\n",
              "    <tr>\n",
              "      <th>6</th>\n",
              "      <td>you</td>\n",
              "      <td>12163</td>\n",
              "    </tr>\n",
              "    <tr>\n",
              "      <th>7</th>\n",
              "      <td>my</td>\n",
              "      <td>10839</td>\n",
              "    </tr>\n",
              "    <tr>\n",
              "      <th>8</th>\n",
              "      <td>in</td>\n",
              "      <td>10005</td>\n",
              "    </tr>\n",
              "    <tr>\n",
              "      <th>9</th>\n",
              "      <td>d</td>\n",
              "      <td>8954</td>\n",
              "    </tr>\n",
              "  </tbody>\n",
              "</table>\n",
              "</div>"
            ]
          },
          "metadata": {
            "tags": []
          }
        }
      ]
    },
    {
      "cell_type": "markdown",
      "metadata": {
        "id": "OmuN3RRN0FpD",
        "colab_type": "text"
      },
      "source": [
        "# Text Preprocessing"
      ]
    },
    {
      "cell_type": "code",
      "metadata": {
        "trusted": true,
        "id": "i5OYKxF_0FpE",
        "colab_type": "code",
        "colab": {},
        "outputId": "fd666cf6-73ea-4c0b-cc2f-d0c7eb70d9c6"
      },
      "source": [
        "#Get all the unique characters\n",
        "vocab = sorted(set(text))\n",
        "vocab_size = len(vocab)\n",
        "print(vocab)\n",
        "print('Total uniques characters: ',vocab_size)"
      ],
      "execution_count": 0,
      "outputs": [
        {
          "output_type": "stream",
          "text": [
            "['\\n', ' ', '!', '\"', '&', \"'\", '(', ')', ',', '-', '.', '0', '1', '2', '3', '4', '5', '6', '7', '8', '9', ':', ';', '<', '>', '?', 'A', 'B', 'C', 'D', 'E', 'F', 'G', 'H', 'I', 'J', 'K', 'L', 'M', 'N', 'O', 'P', 'Q', 'R', 'S', 'T', 'U', 'V', 'W', 'X', 'Y', 'Z', '[', ']', '_', '`', 'a', 'b', 'c', 'd', 'e', 'f', 'g', 'h', 'i', 'j', 'k', 'l', 'm', 'n', 'o', 'p', 'q', 'r', 's', 't', 'u', 'v', 'w', 'x', 'y', 'z', '|', '}']\n",
            "Total uniques characters:  84\n"
          ],
          "name": "stdout"
        }
      ]
    },
    {
      "cell_type": "code",
      "metadata": {
        "trusted": true,
        "id": "uAb8u5iL0FpH",
        "colab_type": "code",
        "colab": {},
        "outputId": "019ab4ad-8f49-483a-fd77-01159308ec35"
      },
      "source": [
        "#Map characters to numbers and numbers to characters\n",
        "char_to_ind = {u:i for i,u in enumerate(vocab)}\n",
        "ind_to_char = {i:u for i,u in enumerate(vocab)}\n",
        "print(char_to_ind)\n",
        "print('\\n')\n",
        "print(ind_to_char)"
      ],
      "execution_count": 0,
      "outputs": [
        {
          "output_type": "stream",
          "text": [
            "{'\\n': 0, ' ': 1, '!': 2, '\"': 3, '&': 4, \"'\": 5, '(': 6, ')': 7, ',': 8, '-': 9, '.': 10, '0': 11, '1': 12, '2': 13, '3': 14, '4': 15, '5': 16, '6': 17, '7': 18, '8': 19, '9': 20, ':': 21, ';': 22, '<': 23, '>': 24, '?': 25, 'A': 26, 'B': 27, 'C': 28, 'D': 29, 'E': 30, 'F': 31, 'G': 32, 'H': 33, 'I': 34, 'J': 35, 'K': 36, 'L': 37, 'M': 38, 'N': 39, 'O': 40, 'P': 41, 'Q': 42, 'R': 43, 'S': 44, 'T': 45, 'U': 46, 'V': 47, 'W': 48, 'X': 49, 'Y': 50, 'Z': 51, '[': 52, ']': 53, '_': 54, '`': 55, 'a': 56, 'b': 57, 'c': 58, 'd': 59, 'e': 60, 'f': 61, 'g': 62, 'h': 63, 'i': 64, 'j': 65, 'k': 66, 'l': 67, 'm': 68, 'n': 69, 'o': 70, 'p': 71, 'q': 72, 'r': 73, 's': 74, 't': 75, 'u': 76, 'v': 77, 'w': 78, 'x': 79, 'y': 80, 'z': 81, '|': 82, '}': 83}\n",
            "\n",
            "\n",
            "{0: '\\n', 1: ' ', 2: '!', 3: '\"', 4: '&', 5: \"'\", 6: '(', 7: ')', 8: ',', 9: '-', 10: '.', 11: '0', 12: '1', 13: '2', 14: '3', 15: '4', 16: '5', 17: '6', 18: '7', 19: '8', 20: '9', 21: ':', 22: ';', 23: '<', 24: '>', 25: '?', 26: 'A', 27: 'B', 28: 'C', 29: 'D', 30: 'E', 31: 'F', 32: 'G', 33: 'H', 34: 'I', 35: 'J', 36: 'K', 37: 'L', 38: 'M', 39: 'N', 40: 'O', 41: 'P', 42: 'Q', 43: 'R', 44: 'S', 45: 'T', 46: 'U', 47: 'V', 48: 'W', 49: 'X', 50: 'Y', 51: 'Z', 52: '[', 53: ']', 54: '_', 55: '`', 56: 'a', 57: 'b', 58: 'c', 59: 'd', 60: 'e', 61: 'f', 62: 'g', 63: 'h', 64: 'i', 65: 'j', 66: 'k', 67: 'l', 68: 'm', 69: 'n', 70: 'o', 71: 'p', 72: 'q', 73: 'r', 74: 's', 75: 't', 76: 'u', 77: 'v', 78: 'w', 79: 'x', 80: 'y', 81: 'z', 82: '|', 83: '}'}\n"
          ],
          "name": "stdout"
        }
      ]
    },
    {
      "cell_type": "code",
      "metadata": {
        "trusted": true,
        "id": "zuARpG4e0FpJ",
        "colab_type": "code",
        "colab": {},
        "outputId": "b999d798-8983-4301-868e-ee94efa27a40"
      },
      "source": [
        "#encode the first 1000 characters as numbers\n",
        "encoded_text = np.array([char_to_ind[c] for c in text])\n",
        "print(encoded_text[:1000])"
      ],
      "execution_count": 0,
      "outputs": [
        {
          "output_type": "stream",
          "text": [
            "[ 0  1  1  1  1  1  1  1  1  1  1  1  1  1  1  1  1  1  1  1  1  1 12  0\n",
            "  1  1 31 73 70 68  1 61 56 64 73 60 74 75  1 58 73 60 56 75 76 73 60 74\n",
            "  1 78 60  1 59 60 74 64 73 60  1 64 69 58 73 60 56 74 60  8  0  1  1 45\n",
            " 63 56 75  1 75 63 60 73 60 57 80  1 57 60 56 76 75 80  5 74  1 73 70 74\n",
            " 60  1 68 64 62 63 75  1 69 60 77 60 73  1 59 64 60  8  0  1  1 27 76 75\n",
            "  1 56 74  1 75 63 60  1 73 64 71 60 73  1 74 63 70 76 67 59  1 57 80  1\n",
            " 75 64 68 60  1 59 60 58 60 56 74 60  8  0  1  1 33 64 74  1 75 60 69 59\n",
            " 60 73  1 63 60 64 73  1 68 64 62 63 75  1 57 60 56 73  1 63 64 74  1 68\n",
            " 60 68 70 73 80 21  0  1  1 27 76 75  1 75 63 70 76  1 58 70 69 75 73 56\n",
            " 58 75 60 59  1 75 70  1 75 63 64 69 60  1 70 78 69  1 57 73 64 62 63 75\n",
            "  1 60 80 60 74  8  0  1  1 31 60 60 59  5 74 75  1 75 63 80  1 67 64 62\n",
            " 63 75  5 74  1 61 67 56 68 60  1 78 64 75 63  1 74 60 67 61  9 74 76 57\n",
            " 74 75 56 69 75 64 56 67  1 61 76 60 67  8  0  1  1 38 56 66 64 69 62  1\n",
            " 56  1 61 56 68 64 69 60  1 78 63 60 73 60  1 56 57 76 69 59 56 69 58 60\n",
            "  1 67 64 60 74  8  0  1  1 45 63 80  1 74 60 67 61  1 75 63 80  1 61 70\n",
            " 60  8  1 75 70  1 75 63 80  1 74 78 60 60 75  1 74 60 67 61  1 75 70 70\n",
            "  1 58 73 76 60 67 21  0  1  1 45 63 70 76  1 75 63 56 75  1 56 73 75  1\n",
            " 69 70 78  1 75 63 60  1 78 70 73 67 59  5 74  1 61 73 60 74 63  1 70 73\n",
            " 69 56 68 60 69 75  8  0  1  1 26 69 59  1 70 69 67 80  1 63 60 73 56 67\n",
            " 59  1 75 70  1 75 63 60  1 62 56 76 59 80  1 74 71 73 64 69 62  8  0  1\n",
            "  1 48 64 75 63 64 69  1 75 63 64 69 60  1 70 78 69  1 57 76 59  1 57 76\n",
            " 73 64 60 74 75  1 75 63 80  1 58 70 69 75 60 69 75  8  0  1  1 26 69 59\n",
            "  1 75 60 69 59 60 73  1 58 63 76 73 67  1 68 56 66  5 74 75  1 78 56 74\n",
            " 75 60  1 64 69  1 69 64 62 62 56 73 59 64 69 62 21  0  1  1  1  1 41 64\n",
            " 75 80  1 75 63 60  1 78 70 73 67 59  8  1 70 73  1 60 67 74 60  1 75 63\n",
            " 64 74  1 62 67 76 75 75 70 69  1 57 60  8  0  1  1  1  1 45 70  1 60 56\n",
            " 75  1 75 63 60  1 78 70 73 67 59  5 74  1 59 76 60  8  1 57 80  1 75 63\n",
            " 60  1 62 73 56 77 60  1 56 69 59  1 75 63 60 60 10  0  0  0  1  1  1  1\n",
            "  1  1  1  1  1  1  1  1  1  1  1  1  1  1  1  1  1 13  0  1  1 48 63 60\n",
            " 69  1 61 70 73 75 80  1 78 64 69 75 60 73 74  1 74 63 56 67 67  1 57 60\n",
            " 74 64 60 62 60  1 75 63 80  1 57 73 70 78  8  0  1  1 26 69 59  1 59 64\n",
            " 62  1 59 60 60 71  1 75 73 60 69 58 63 60 74  1 64 69  1 75 63 80  1 57\n",
            " 60 56 76 75 80  5 74  1 61 64 60 67 59  8  0  1  1 45 63 80  1 80 70 76\n",
            " 75 63  5 74  1 71 73 70 76 59  1 67 64 77 60 73 80  1 74 70  1 62 56 81\n",
            " 60 59  1 70 69  1 69 70 78  8  0  1  1 48 64 67 67  1 57 60  1 56  1 75\n",
            " 56 75 75 60 73 60 59  1 78 60 60 59  1 70 61  1 74 68 56 67 67  1 78 70\n",
            " 73 75 63  1 63 60 67 59 21  1  1  0  1  1 45 63 60 69  1 57 60 64 69 62\n",
            "  1 56 74 66 60 59  8  1 78 63 60 73 60  1 56 67 67  1 75 63 80  1 57 60\n",
            " 56 76 75 80  1 67 64 60 74  8  0  1  1 48 63 60 73 60  1 56 67 67  1 75\n",
            " 63 60  1 75 73 60 56 74 76 73 60  1 70 61  1 75 63 80  1 67 76 74 75 80\n",
            "  1 59 56 80 74 22  0  1  1 45 70  1 74 56 80  1 78 64 75 63 64 69  1 75\n",
            " 63 64 69 60  1 70 78 69  1 59 60 60 71  1 74 76]\n"
          ],
          "name": "stdout"
        }
      ]
    },
    {
      "cell_type": "markdown",
      "metadata": {
        "id": "g9Ff31p_0FpN",
        "colab_type": "text"
      },
      "source": [
        "# Training Sequence"
      ]
    },
    {
      "cell_type": "code",
      "metadata": {
        "trusted": true,
        "id": "VRy-_GoC0FpN",
        "colab_type": "code",
        "colab": {},
        "outputId": "aee295e7-1b05-4c78-a883-8ba5a89c4ccd"
      },
      "source": [
        "#number of sequences to generate\n",
        "seq_len = 120\n",
        "total_num_seq = len(text)//(seq_len+1)\n",
        "print('Total Number of Sequences: ', total_num_seq)"
      ],
      "execution_count": 0,
      "outputs": [
        {
          "output_type": "stream",
          "text": [
            "Total Number of Sequences:  45005\n"
          ],
          "name": "stdout"
        }
      ]
    },
    {
      "cell_type": "code",
      "metadata": {
        "trusted": true,
        "id": "h940Pj160FpP",
        "colab_type": "code",
        "colab": {},
        "outputId": "e2140297-6552-442b-9c62-9108da43d73f"
      },
      "source": [
        "#Create training sequences\n",
        "#tf.data.Dataset.from_tensor_slices function converts a text vector\n",
        "#into a stream of character indices\n",
        "char_dataset = tf.data.Dataset.from_tensor_slices(encoded_text)\n",
        "\n",
        "for i in char_dataset.take(500):\n",
        "    print(ind_to_char[int(i)],end=\"\")"
      ],
      "execution_count": 0,
      "outputs": [
        {
          "output_type": "stream",
          "text": [
            "\n",
            "                     1\n",
            "  From fairest creatures we desire increase,\n",
            "  That thereby beauty's rose might never die,\n",
            "  But as the riper should by time decease,\n",
            "  His tender heir might bear his memory:\n",
            "  But thou contracted to thine own bright eyes,\n",
            "  Feed'st thy light's flame with self-substantial fuel,\n",
            "  Making a famine where abundance lies,\n",
            "  Thy self thy foe, to thy sweet self too cruel:\n",
            "  Thou that art now the world's fresh ornament,\n",
            "  And only herald to the gaudy spring,\n",
            "  Within thine own bu"
          ],
          "name": "stdout"
        }
      ]
    },
    {
      "cell_type": "code",
      "metadata": {
        "trusted": true,
        "id": "mnCuZZB20FpS",
        "colab_type": "code",
        "colab": {}
      },
      "source": [
        "#batch method converts these individual character calls into sequences\n",
        "#which we can feed in as a batch\n",
        "#we use seq_len+1 because we will use seq_len characters\n",
        "#and shift them one step forward\n",
        "#drop remainder drops the remaining characters < batch_size\n",
        "sequences = char_dataset.batch(seq_len+1, drop_remainder=True)"
      ],
      "execution_count": 0,
      "outputs": []
    },
    {
      "cell_type": "code",
      "metadata": {
        "trusted": true,
        "id": "lot2qS8K0FpX",
        "colab_type": "code",
        "colab": {}
      },
      "source": [
        "#this function will grab a sequence\n",
        "#take the [0:n-1] characters as input text\n",
        "#take the [1:n] characters as target text\n",
        "#return a tuple of both\n",
        "def create_seq_targets(seq):\n",
        "    input_txt = seq[:-1]\n",
        "    target_txt = seq[1:]\n",
        "    return input_txt, target_txt"
      ],
      "execution_count": 0,
      "outputs": []
    },
    {
      "cell_type": "code",
      "metadata": {
        "trusted": true,
        "id": "Kx_mTnWH0Fpb",
        "colab_type": "code",
        "colab": {}
      },
      "source": [
        "#this will convert the series of sequences into\n",
        "#a series of tuple containing input and target text\n",
        "dataset = sequences.map(create_seq_targets)"
      ],
      "execution_count": 0,
      "outputs": []
    },
    {
      "cell_type": "code",
      "metadata": {
        "trusted": true,
        "id": "bETVPihx0Fpe",
        "colab_type": "code",
        "colab": {},
        "outputId": "ddbca273-7f3a-4ee9-aa9b-a2f2f68fe65b"
      },
      "source": [
        "for input_txt, target_txt in dataset.take(1):\n",
        "    print(''.join([ind_to_char[i] for i in np.array(input_txt)]))\n",
        "    print('\\n')\n",
        "    print(''.join([ind_to_char[i] for i in np.array(target_txt)]))\n",
        "\n",
        "#the target is shifter 1 character forward\n",
        "#the last character is a space and is thus not visible"
      ],
      "execution_count": 0,
      "outputs": [
        {
          "output_type": "stream",
          "text": [
            "\n",
            "                     1\n",
            "  From fairest creatures we desire increase,\n",
            "  That thereby beauty's rose might never die,\n",
            "  But\n",
            "\n",
            "\n",
            "                     1\n",
            "  From fairest creatures we desire increase,\n",
            "  That thereby beauty's rose might never die,\n",
            "  But \n"
          ],
          "name": "stdout"
        }
      ]
    },
    {
      "cell_type": "markdown",
      "metadata": {
        "id": "BOKk9KJS0Fpg",
        "colab_type": "text"
      },
      "source": [
        "# Generating training batches"
      ]
    },
    {
      "cell_type": "code",
      "metadata": {
        "trusted": true,
        "id": "0VGYGXVD0Fph",
        "colab_type": "code",
        "colab": {}
      },
      "source": [
        "batch_size = 128 #number of sequence tuples in each batch\n",
        "buffer_size = 10000 #shuffle this many sequences in the dataset\n",
        "\n",
        "#first shuffle the dataset and divide it into batches\n",
        "#drop the last sequences < batch_size\n",
        "dataset = dataset.shuffle(buffer_size).batch(batch_size, drop_remainder=True)"
      ],
      "execution_count": 0,
      "outputs": []
    },
    {
      "cell_type": "code",
      "metadata": {
        "trusted": true,
        "id": "_b5jORru0Fpk",
        "colab_type": "code",
        "colab": {}
      },
      "source": [
        "#count the number of batches\n",
        "#i couldn't find a function to do it in O(1)\n",
        "#please let me know\n",
        "\n",
        "x = 0\n",
        "for i in dataset:\n",
        "    x += 1"
      ],
      "execution_count": 0,
      "outputs": []
    },
    {
      "cell_type": "code",
      "metadata": {
        "trusted": true,
        "id": "MOvxRAXt0Fpn",
        "colab_type": "code",
        "colab": {},
        "outputId": "e9467fcf-3eb4-4d73-d271-e7a3795a81bc"
      },
      "source": [
        "print('Total Batches:', x)\n",
        "print('Sequences in each batch: ', batch_size)\n",
        "print('Characters in each sequence:', seq_len)\n",
        "print('Characters in dataset: ', len(list(text)))"
      ],
      "execution_count": 0,
      "outputs": [
        {
          "output_type": "stream",
          "text": [
            "Total Batches: 351\n",
            "Sequences in each batch:  128\n",
            "Characters in each sequence: 120\n",
            "Characters in dataset:  5445609\n"
          ],
          "name": "stdout"
        }
      ]
    },
    {
      "cell_type": "markdown",
      "metadata": {
        "id": "f2ljctFE0Fpp",
        "colab_type": "text"
      },
      "source": [
        "# Creating the Model"
      ]
    },
    {
      "cell_type": "code",
      "metadata": {
        "trusted": true,
        "id": "WOYmK7lJ0Fpp",
        "colab_type": "code",
        "colab": {}
      },
      "source": [
        "#importing keras modules\n",
        "from tensorflow.keras.models import Sequential\n",
        "from tensorflow.keras.layers import LSTM,Dense,Embedding,Dropout,GRU\n",
        "from tensorflow.keras.losses import sparse_categorical_crossentropy"
      ],
      "execution_count": 0,
      "outputs": []
    },
    {
      "cell_type": "code",
      "metadata": {
        "trusted": true,
        "id": "G6Y4Ziu80Fpr",
        "colab_type": "code",
        "colab": {}
      },
      "source": [
        "#using sparse_categorical_crossentropy because\n",
        "#out predictions will be numbers and not one hot encodings\n",
        "#we need to define a custom loss function so that we can change\n",
        "#the from_logits parameter to True\n",
        "def sparse_cat_loss(y_true, y_pred):\n",
        "    return sparse_categorical_crossentropy(y_true, y_pred, from_logits=True)"
      ],
      "execution_count": 0,
      "outputs": []
    },
    {
      "cell_type": "code",
      "metadata": {
        "trusted": true,
        "id": "jDth1xnf0Fpt",
        "colab_type": "code",
        "colab": {}
      },
      "source": [
        "def create_model(batch_size):\n",
        "    vocab_size_func = vocab_size\n",
        "    embed_dim = 64 #the embedding dimension\n",
        "    rnn_neurons = 1024 #number of rnn units\n",
        "    batch_size_func = batch_size\n",
        "    \n",
        "    model = Sequential()\n",
        "    \n",
        "    model.add(Embedding(vocab_size_func, \n",
        "                        embed_dim, \n",
        "                        batch_input_shape=[batch_size_func, None]))\n",
        "    model.add(GRU(rnn_neurons, \n",
        "                  return_sequences=True, \n",
        "                  stateful=True, \n",
        "                  recurrent_initializer='glorot_uniform'))\n",
        "    \n",
        "    model.add(Dense(vocab_size_func))    \n",
        "    model.compile(optimizer='adam', loss=sparse_cat_loss)    \n",
        "    \n",
        "    return model"
      ],
      "execution_count": 0,
      "outputs": []
    },
    {
      "cell_type": "code",
      "metadata": {
        "trusted": true,
        "id": "7bHQ7BdD0Fpv",
        "colab_type": "code",
        "colab": {},
        "outputId": "fe592c32-9905-4649-e2ce-6604e7d3d9d2"
      },
      "source": [
        "model = create_model(batch_size)\n",
        "model.summary()"
      ],
      "execution_count": 0,
      "outputs": [
        {
          "output_type": "stream",
          "text": [
            "Model: \"sequential_5\"\n",
            "_________________________________________________________________\n",
            "Layer (type)                 Output Shape              Param #   \n",
            "=================================================================\n",
            "embedding_5 (Embedding)      (128, None, 64)           5376      \n",
            "_________________________________________________________________\n",
            "gru_5 (GRU)                  (128, None, 1024)         3348480   \n",
            "_________________________________________________________________\n",
            "dense_5 (Dense)              (128, None, 84)           86100     \n",
            "=================================================================\n",
            "Total params: 3,439,956\n",
            "Trainable params: 3,439,956\n",
            "Non-trainable params: 0\n",
            "_________________________________________________________________\n"
          ],
          "name": "stdout"
        }
      ]
    },
    {
      "cell_type": "markdown",
      "metadata": {
        "id": "R1rZCvVH0Fpx",
        "colab_type": "text"
      },
      "source": [
        "# Training the Model"
      ]
    },
    {
      "cell_type": "markdown",
      "metadata": {
        "id": "_Sn3KFJZ0Fpy",
        "colab_type": "text"
      },
      "source": [
        "#### As we have  created the model, random weights and biases have been assigned, so before begining training lets first check whether the model is working or not."
      ]
    },
    {
      "cell_type": "code",
      "metadata": {
        "trusted": true,
        "id": "FauD6mE60Fpy",
        "colab_type": "code",
        "colab": {},
        "outputId": "21a9fd12-f826-4c78-f5fb-56be95843deb"
      },
      "source": [
        "#note this will generate random characters\n",
        "#dataset.take(1) contains 1 batch = 128 sequence tuples\n",
        "#model will output 120 characters per sequence\n",
        "#in the form of probability of those 84 vocab characters\n",
        "for ex_input, ex_target in dataset.take(1):\n",
        "    ex_pred = model(ex_input)\n",
        "print(ex_pred.shape)\n",
        "\n",
        "#changes the character probabilities to integers\n",
        "sampled_indices = tf.random.categorical(ex_pred[0], num_samples=1)\n",
        "\n",
        "#maps those integers to characters\n",
        "char_pred = ''.join([ind_to_char[int(i)] for i in sampled_indices])\n",
        "\n",
        "print(char_pred)"
      ],
      "execution_count": 0,
      "outputs": [
        {
          "output_type": "stream",
          "text": [
            "(128, 120, 84)\n",
            "3Di!)knghXBPI}`?U5I6'C]7sJqL<QFc9wA!BGGo((N8qdJMQPDl\n",
            "<mg7GW_J!`RFs'T'BRh5IvzbVCs95PNoCvaVHvpkkdGGPe8p8eJELAg[!QhZB8Kk_Zv\n"
          ],
          "name": "stdout"
        }
      ]
    },
    {
      "cell_type": "code",
      "metadata": {
        "trusted": true,
        "id": "6qW_L6OA0Fp0",
        "colab_type": "code",
        "colab": {},
        "outputId": "448ddb88-41e0-47ad-f11e-14b0e45a7cdf"
      },
      "source": [
        "#training the model\n",
        "model.fit(dataset, epochs=30, verbose=1)"
      ],
      "execution_count": 0,
      "outputs": [
        {
          "output_type": "stream",
          "text": [
            "Train for 351 steps\n",
            "Epoch 1/30\n",
            "351/351 [==============================] - 28s 79ms/step - loss: 2.5455\n",
            "Epoch 2/30\n",
            "351/351 [==============================] - 27s 76ms/step - loss: 1.7583\n",
            "Epoch 3/30\n",
            "351/351 [==============================] - 26s 74ms/step - loss: 1.4818\n",
            "Epoch 4/30\n",
            "351/351 [==============================] - 26s 75ms/step - loss: 1.3535\n",
            "Epoch 5/30\n",
            "351/351 [==============================] - 26s 74ms/step - loss: 1.2870\n",
            "Epoch 6/30\n",
            "351/351 [==============================] - 26s 75ms/step - loss: 1.2440\n",
            "Epoch 7/30\n",
            "351/351 [==============================] - 26s 74ms/step - loss: 1.2140\n",
            "Epoch 8/30\n",
            "351/351 [==============================] - 26s 74ms/step - loss: 1.1897\n",
            "Epoch 9/30\n",
            "351/351 [==============================] - 26s 74ms/step - loss: 1.1698\n",
            "Epoch 10/30\n",
            "351/351 [==============================] - 26s 74ms/step - loss: 1.1517\n",
            "Epoch 11/30\n",
            "351/351 [==============================] - 26s 75ms/step - loss: 1.1356\n",
            "Epoch 12/30\n",
            "351/351 [==============================] - 26s 74ms/step - loss: 1.1216\n",
            "Epoch 13/30\n",
            "351/351 [==============================] - 27s 76ms/step - loss: 1.1083\n",
            "Epoch 14/30\n",
            "351/351 [==============================] - 26s 74ms/step - loss: 1.0958\n",
            "Epoch 15/30\n",
            "351/351 [==============================] - 26s 75ms/step - loss: 1.0838\n",
            "Epoch 16/30\n",
            "351/351 [==============================] - 26s 74ms/step - loss: 1.0722\n",
            "Epoch 17/30\n",
            "351/351 [==============================] - 26s 75ms/step - loss: 1.0617\n",
            "Epoch 18/30\n",
            "351/351 [==============================] - 26s 74ms/step - loss: 1.0517\n",
            "Epoch 19/30\n",
            "351/351 [==============================] - 26s 74ms/step - loss: 1.0417\n",
            "Epoch 20/30\n",
            "351/351 [==============================] - 27s 76ms/step - loss: 1.0329\n",
            "Epoch 21/30\n",
            "351/351 [==============================] - 26s 74ms/step - loss: 1.0244\n",
            "Epoch 22/30\n",
            "351/351 [==============================] - 26s 75ms/step - loss: 1.0164\n",
            "Epoch 23/30\n",
            "351/351 [==============================] - 26s 74ms/step - loss: 1.0095\n",
            "Epoch 24/30\n",
            "351/351 [==============================] - 26s 75ms/step - loss: 1.0026\n",
            "Epoch 25/30\n",
            "351/351 [==============================] - 26s 74ms/step - loss: 0.9968\n",
            "Epoch 26/30\n",
            "351/351 [==============================] - 26s 75ms/step - loss: 0.9914\n",
            "Epoch 27/30\n",
            "351/351 [==============================] - 26s 75ms/step - loss: 0.9864\n",
            "Epoch 28/30\n",
            "351/351 [==============================] - 26s 74ms/step - loss: 0.9825\n",
            "Epoch 29/30\n",
            "351/351 [==============================] - 26s 75ms/step - loss: 0.9785\n",
            "Epoch 30/30\n",
            "351/351 [==============================] - 26s 74ms/step - loss: 0.9755\n"
          ],
          "name": "stdout"
        },
        {
          "output_type": "execute_result",
          "data": {
            "text/plain": [
              "<tensorflow.python.keras.callbacks.History at 0x7f2104f5a6d0>"
            ]
          },
          "metadata": {
            "tags": []
          },
          "execution_count": 95
        }
      ]
    },
    {
      "cell_type": "code",
      "metadata": {
        "trusted": true,
        "id": "X3_7XmC40Fp2",
        "colab_type": "code",
        "colab": {}
      },
      "source": [
        "#save the model\n",
        "model.save('shakespeare.h5')"
      ],
      "execution_count": 0,
      "outputs": []
    },
    {
      "cell_type": "markdown",
      "metadata": {
        "id": "LQrDsQlb0Fp5",
        "colab_type": "text"
      },
      "source": [
        "# Generating text"
      ]
    },
    {
      "cell_type": "code",
      "metadata": {
        "trusted": true,
        "id": "EkzjE5Rd0Fp6",
        "colab_type": "code",
        "colab": {}
      },
      "source": [
        "# importing load_model to load the keras model\n",
        "from tensorflow.keras.models import load_model"
      ],
      "execution_count": 0,
      "outputs": []
    },
    {
      "cell_type": "code",
      "metadata": {
        "trusted": true,
        "id": "F_5Bf3Le0Fp9",
        "colab_type": "code",
        "colab": {},
        "outputId": "4109892c-3bcd-4cb0-b515-698752b988d5"
      },
      "source": [
        "#create a new model with a batch size of 1\n",
        "model = create_model(batch_size=1)\n",
        "\n",
        "#load the weights from the previous model to our new model\n",
        "model.load_weights('shakespeare.h5')\n",
        "\n",
        "#build the model\n",
        "model.build(tf.TensorShape([1, None]))\n",
        "\n",
        "#view model summary\n",
        "print(model.summary())"
      ],
      "execution_count": 0,
      "outputs": [
        {
          "output_type": "stream",
          "text": [
            "Model: \"sequential_6\"\n",
            "_________________________________________________________________\n",
            "Layer (type)                 Output Shape              Param #   \n",
            "=================================================================\n",
            "embedding_6 (Embedding)      (1, None, 64)             5376      \n",
            "_________________________________________________________________\n",
            "gru_6 (GRU)                  (1, None, 1024)           3348480   \n",
            "_________________________________________________________________\n",
            "dense_6 (Dense)              (1, None, 84)             86100     \n",
            "=================================================================\n",
            "Total params: 3,439,956\n",
            "Trainable params: 3,439,956\n",
            "Non-trainable params: 0\n",
            "_________________________________________________________________\n",
            "None\n"
          ],
          "name": "stdout"
        }
      ]
    },
    {
      "cell_type": "code",
      "metadata": {
        "trusted": true,
        "id": "EFs6cmY60Fp_",
        "colab_type": "code",
        "colab": {}
      },
      "source": [
        "#function to generate text based on an input text\n",
        "#we enter the text on which our output will be based\n",
        "#we define how many characters we want in output\n",
        "\n",
        "def generate_text(model, start_seed, gen_size=100):\n",
        "    num_generate = gen_size\n",
        "    input_eval = [char_to_ind[s] for s in start_seed]\n",
        "    input_eval = tf.expand_dims(input_eval, 0)\n",
        "    \n",
        "    text_generated = []\n",
        "    \n",
        "    model.reset_states()\n",
        "    \n",
        "    for i in range(num_generate):\n",
        "        predictions = model(input_eval)\n",
        "        predictions = tf.squeeze(predictions, 0)\n",
        "        \n",
        "        predicted_id = tf.random.categorical(predictions, num_samples=1)[-1, 0].numpy()\n",
        "        \n",
        "        input_eval = tf.expand_dims([predicted_id], 0)\n",
        "        \n",
        "        text_generated.append(ind_to_char[predicted_id])\n",
        "        \n",
        "    return (start_seed + ''.join(text_generated))"
      ],
      "execution_count": 0,
      "outputs": []
    },
    {
      "cell_type": "code",
      "metadata": {
        "trusted": true,
        "id": "Oksliul00FqB",
        "colab_type": "code",
        "colab": {},
        "outputId": "5fcc84bd-ea1b-4f2b-dc67-401961c7ed61"
      },
      "source": [
        "#generate a text based on input\n",
        "#note that, this out is not part of the dataset\n",
        "#but completely auto generated\n",
        "auto_text = generate_text(model, 'How art thou?', gen_size = 1000)\n",
        "print(auto_text)"
      ],
      "execution_count": 0,
      "outputs": [
        {
          "output_type": "stream",
          "text": [
            "How art thou?\n",
            "  OTHELLO. This is the cunning silver-house, this man go to bed, to report\n",
            "    Thy grave is as fast, but known, as euging,\n",
            "    Love-spoiling for you.\n",
            "  PROTEUS. Forg'd no further troubled with bounty, may your praises are\n",
            "    throughly moved, when you have reverse, no.\n",
            "  Friar. Pardons\n",
            "  QUEEN. Of me is Panian's minds. You torment is my most observis'd\n",
            "    Of all the curtains. Yet I hear and by suspicion\n",
            "    at this half-skin on his sphere doth back to sight.\n",
            "  FLORIZEL. Thou cam'st,  \n",
            "    I say, opens'd,\n",
            "    Looky heavy from mine uncles being a fool,\n",
            "    Your lordshipfray shall go farther coldly what\n",
            "    whoreson cruel pictures; thereof was the something of silver, since I muse\n",
            "    murther our brights of foul words buried.\n",
            "  PANDARUS. That's as proud affection than the old favour\n",
            "    sing in's arm] I'll fight. It is my husband he would live to see        Frenchmenerales\n",
            "    Mark it more carefully.\n",
            "  AUCHIO. The answer, Jack; I spread, is old Signior Friar, am becomes not it so fast,\n",
            "\n"
          ],
          "name": "stdout"
        }
      ]
    },
    {
      "cell_type": "code",
      "metadata": {
        "trusted": true,
        "id": "g0K9rqe20FqE",
        "colab_type": "code",
        "colab": {}
      },
      "source": [
        "#download the saved model\n",
        "model.save('shakespeare.h5')\n",
        "from IPython.display import FileLink\n",
        "FileLink(r'shakespeare.h5')"
      ],
      "execution_count": 0,
      "outputs": []
    }
  ]
}